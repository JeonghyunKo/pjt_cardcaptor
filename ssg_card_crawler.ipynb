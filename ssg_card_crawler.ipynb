{
 "cells": [
  {
   "cell_type": "code",
   "execution_count": null,
   "id": "0443d3bb",
   "metadata": {},
   "outputs": [],
   "source": [
    "## Project Cardcaptor \n"
   ]
  },
  {
   "cell_type": "code",
   "execution_count": 27,
   "id": "8dd1e6aa",
   "metadata": {},
   "outputs": [],
   "source": [
    "import re\n",
    "import pandas as pd\n",
    "import requests\n",
    "from bs4 import BeautifulSoup\n",
    "from datetime import datetime"
   ]
  },
  {
   "cell_type": "code",
   "execution_count": 77,
   "id": "c83fdde5",
   "metadata": {},
   "outputs": [],
   "source": [
    "origin_df = pd.read_csv(\"ssg_card.csv\", encoding = 'utf-8-sig')\n",
    "#origin_df = pd.DataFrame()\n",
    "origin_df.fillna(\"\", inplace = True)"
   ]
  },
  {
   "cell_type": "code",
   "execution_count": 78,
   "id": "6b5db19e",
   "metadata": {},
   "outputs": [],
   "source": [
    "url = 'https://www.ssg.com/event/eventMain.ssg' \n",
    "r = requests.get(url)\n",
    "\n",
    "if r.status_code == 200:\n",
    "    html = r.text\n",
    "    soup = BeautifulSoup(html, 'html.parser')\n",
    "\n",
    "else : \n",
    "    print(r.status_code)\n",
    "\n",
    "# import requests\n",
    "# from bs4 import BeautifulSoup\n",
    "\n",
    "# headers = {'User-Agent': 'Mozilla/5.0'}\n",
    "\n",
    "# url = \"https://linkedin.com/company/1005\"\n",
    "\n",
    "# r = requests.get(url, headers=headers)\n",
    "# print(r.text)\n",
    "\n",
    "# soup = BeautifulSoup(r.text, 'html.parser')\n",
    "# print(soup.prettify())"
   ]
  },
  {
   "cell_type": "code",
   "execution_count": 79,
   "id": "edbf49f1",
   "metadata": {},
   "outputs": [],
   "source": [
    "events = soup.find_all(class_ = 'evt_osmu_unit' )\n",
    "event_ls = [] \n",
    "for event in events : \n",
    "    try : \n",
    "        name = event.find(class_ = 'eo_tit').find(\"strong\").text\n",
    "        if \"카드\" in name : \n",
    "            event_ls.append(event)\n",
    "    except : \n",
    "        continue\n",
    "        #하단 문화이벤트 영역이 공란일 경우 에러 발생시키기 때문에 try except 처리한다 \n",
    "\n",
    "# [event for event in events if \"카드\" in event.find(class_ = 'eo_tit').find(\"strong\").text]"
   ]
  },
  {
   "cell_type": "code",
   "execution_count": 84,
   "id": "45a7f9e1",
   "metadata": {},
   "outputs": [],
   "source": [
    "df = pd.DataFrame( {\"date_start\" : []\n",
    "                    ,\"date_end\" : [] \n",
    "                    ,\"card\" : []\n",
    "                    ,\"descript\" : []\n",
    "                    ,\"platform\" : []\n",
    "                    ,\"detail_date\" : []\n",
    "                    ,\"detail_card\" : []\n",
    "                    ,\"detail_desc\" : []\n",
    "                    ,\"detail_goods\" : []\n",
    "                    ,\"detail_limit\" : []\n",
    "                    ,\"update_dt\" : []\n",
    "                    })"
   ]
  },
  {
   "cell_type": "code",
   "execution_count": 85,
   "id": "613a72eb",
   "metadata": {},
   "outputs": [
    {
     "name": "stdout",
     "output_type": "stream",
     "text": [
      "2022-09-25 22:01:23.608581\n"
     ]
    }
   ],
   "source": [
    "update_dt = datetime.today()\n",
    "print(update_dt)"
   ]
  },
  {
   "cell_type": "code",
   "execution_count": 86,
   "id": "dd2a1508",
   "metadata": {},
   "outputs": [],
   "source": [
    "\n",
    "main_url = 'https://www.ssg.com'\n",
    "update_dt = datetime.today()\n",
    "\n",
    "for event in event_ls : \n",
    "    \n",
    "    #기본정보\n",
    "    date_total = event.find(class_ = 'eo_period').text.split(\" - \")\n",
    "    card = event.find(class_ = 'eo_tit').find(\"strong\").text\n",
    "    descript = event.find(class_ = 'desc1').text + \" \" + event.find(class_ = 'desc2').text\n",
    "    platform = event.find(class_ = 'eo_mall').text.replace(\"\\n\", \"\")\n",
    "    \n",
    "    #링크타고 들어가서 얻는 디테일 \n",
    "    #아니 왜 링크 유형이 제각각이야 \n",
    "    event_url = event.find(href=True)[\"href\"]\n",
    "    if \"https://\" not in event_url : \n",
    "        second_url = main_url + event_url\n",
    "    else : \n",
    "        second_url = event.find(href=True)[\"href\"]\n",
    "        \n",
    "    r2 = requests.get(second_url)\n",
    "\n",
    "    if r2.status_code == 200:\n",
    "        html = r2.text\n",
    "        soup = BeautifulSoup(html, 'html.parser')\n",
    "\n",
    "    else : \n",
    "        print(r2.status_code)\n",
    "        \n",
    "    try : \n",
    "        details = soup.find(class_=\"ecard_info\").find_all(\"li\")\n",
    "        for d in details : \n",
    "\n",
    "            item = d.find(class_=\"tit\").text\n",
    "            content = d.text.replace(d.find(class_=\"tit\").text, \"\")\n",
    "\n",
    "            if item == '행사기간' : \n",
    "                detail_date = content\n",
    "            elif item == '대상카드' : \n",
    "                detail_card = content\n",
    "            elif item == '행사내용' :\n",
    "                detail_desc = content\n",
    "            elif item == '대상상품' : \n",
    "                detail_goods = content\n",
    "            else : \n",
    "                detail_limit = content\n",
    "    except : \n",
    "        detail_date, detail_card, detail_desc, detail_goods, detail_limit = \"\", \"\", \"\", \"\", \"\"\n",
    "\n",
    "    row = pd.DataFrame.from_dict( [{\"date_start\" : date_total[0]\n",
    "                        ,\"date_end\" : date_total[1]\n",
    "                        ,\"card\" : card\n",
    "                        ,\"descript\" : descript\n",
    "                        ,\"platform\" : platform\n",
    "                        ,\"detail_date\" : detail_date\n",
    "                        ,\"detail_card\" : detail_card\n",
    "                        ,\"detail_desc\" : detail_desc\n",
    "                        ,\"detail_goods\" : detail_goods\n",
    "                        ,\"detail_limit\" : detail_limit\n",
    "                        ,\"update_dt\" : update_dt}])\n",
    "    df = pd.concat([df, row], ignore_index = True)"
   ]
  },
  {
   "cell_type": "code",
   "execution_count": 87,
   "id": "c187a67d",
   "metadata": {},
   "outputs": [],
   "source": [
    "df.fillna(\"\", inplace = True)"
   ]
  },
  {
   "cell_type": "code",
   "execution_count": 88,
   "id": "a98fe428",
   "metadata": {},
   "outputs": [
    {
     "name": "stdout",
     "output_type": "stream",
     "text": [
      "14\n"
     ]
    }
   ],
   "source": [
    "print(len(df))"
   ]
  },
  {
   "cell_type": "code",
   "execution_count": 89,
   "id": "b7713fe6",
   "metadata": {},
   "outputs": [
    {
     "data": {
      "text/plain": [
       "''"
      ]
     },
     "execution_count": 89,
     "metadata": {},
     "output_type": "execute_result"
    }
   ],
   "source": [
    "df.detail_date[6]"
   ]
  },
  {
   "cell_type": "code",
   "execution_count": 90,
   "id": "9418c02d",
   "metadata": {},
   "outputs": [
    {
     "data": {
      "text/html": [
       "<div>\n",
       "<style scoped>\n",
       "    .dataframe tbody tr th:only-of-type {\n",
       "        vertical-align: middle;\n",
       "    }\n",
       "\n",
       "    .dataframe tbody tr th {\n",
       "        vertical-align: top;\n",
       "    }\n",
       "\n",
       "    .dataframe thead th {\n",
       "        text-align: right;\n",
       "    }\n",
       "</style>\n",
       "<table border=\"1\" class=\"dataframe\">\n",
       "  <thead>\n",
       "    <tr style=\"text-align: right;\">\n",
       "      <th></th>\n",
       "      <th>date_start</th>\n",
       "      <th>date_end</th>\n",
       "      <th>card</th>\n",
       "      <th>descript</th>\n",
       "      <th>platform</th>\n",
       "      <th>detail_date</th>\n",
       "      <th>detail_card</th>\n",
       "      <th>detail_desc</th>\n",
       "      <th>detail_goods</th>\n",
       "      <th>detail_limit</th>\n",
       "      <th>update_dt</th>\n",
       "    </tr>\n",
       "  </thead>\n",
       "  <tbody>\n",
       "    <tr>\n",
       "      <th>9</th>\n",
       "      <td>2022.09.24</td>\n",
       "      <td>2022.09.25</td>\n",
       "      <td>롯데카드</td>\n",
       "      <td>SSGPAY로 7만원 이상 결제 시 5% 청구할인</td>\n",
       "      <td>ssg.com</td>\n",
       "      <td>2022. 9. 24 (토) ~ 9. 25 (일) (※승인일시 기준)</td>\n",
       "      <td>롯데카드 (※단, 법인/기프트/체크카드 제외)</td>\n",
       "      <td>SSGPAY로 롯데카드 7만원 이상 결제 시 5% 청구할인</td>\n",
       "      <td>SSG.COM상품 (※서비스 상품/상품권 및 일부상품 제외)</td>\n",
       "      <td>1인 1일 최대 5만원 한도</td>\n",
       "      <td>2022-09-25 22:01:24.675675</td>\n",
       "    </tr>\n",
       "    <tr>\n",
       "      <th>10</th>\n",
       "      <td>2022.09.24</td>\n",
       "      <td>2022.09.25</td>\n",
       "      <td>SSG.COM카드 Edition2</td>\n",
       "      <td>최대 3만원! 5% 즉시할인</td>\n",
       "      <td>ssg.com</td>\n",
       "      <td>2022. 9. 24 (토) ~ 9. 25 (일) (※승인일시 기준)</td>\n",
       "      <td>SSG.COM카드 Edition2 (※선불,체크,기프트,법인카드 제외)</td>\n",
       "      <td>SSG.COM카드 Edition2로 결제 시 대상상품 금액의 5% 즉시할인</td>\n",
       "      <td>SSG.COM상품 (※서비스 상품, 상품권 및 일부상품 제외)</td>\n",
       "      <td>결제페이지에서 SSG.COM카드 Edition2를 선택하시면 즉시할인이 적용 된 카...</td>\n",
       "      <td>2022-09-25 22:01:24.675675</td>\n",
       "    </tr>\n",
       "    <tr>\n",
       "      <th>11</th>\n",
       "      <td>2022.09.19</td>\n",
       "      <td>2022.09.25</td>\n",
       "      <td>신한카드</td>\n",
       "      <td>대상상품 10% 청구할인</td>\n",
       "      <td>shinsegae mall</td>\n",
       "      <td>2022. 9. 19 (월) ~ 9. 25 (일) (※승인일시 기준)</td>\n",
       "      <td>신한카드 (※단, 신한BC/법인/선불/기프트 카드 제외, 체크카드 포함)</td>\n",
       "      <td>구찌/버버리/프리미엄아울렛/까사미아 상품 신한카드로 10만원 이상 결제 시 10% ...</td>\n",
       "      <td>구찌/버버리/프리미엄아울렛/까사미아 상품 (※일부상품 제외)</td>\n",
       "      <td>구찌/버버리/프리미엄아울렛/까사미아 상품 행사 상품을 함께 결제 할 경우 청구할인 ...</td>\n",
       "      <td>2022-09-25 22:01:24.675675</td>\n",
       "    </tr>\n",
       "    <tr>\n",
       "      <th>12</th>\n",
       "      <td>2022.07.08</td>\n",
       "      <td>2023.06.28</td>\n",
       "      <td>스마일클럽 전용 카드</td>\n",
       "      <td>스마일클럽 가입비 100% 지원 SSG머니 최대 12% 적립</td>\n",
       "      <td>ssg.com</td>\n",
       "      <td></td>\n",
       "      <td></td>\n",
       "      <td></td>\n",
       "      <td></td>\n",
       "      <td></td>\n",
       "      <td>2022-09-25 22:01:24.675675</td>\n",
       "    </tr>\n",
       "    <tr>\n",
       "      <th>13</th>\n",
       "      <td>2022.03.28</td>\n",
       "      <td>2023.02.16</td>\n",
       "      <td>현대카드</td>\n",
       "      <td>장기무이자 최대 20개월 혜택!</td>\n",
       "      <td>ssg.com</td>\n",
       "      <td></td>\n",
       "      <td></td>\n",
       "      <td></td>\n",
       "      <td></td>\n",
       "      <td></td>\n",
       "      <td>2022-09-25 22:01:24.675675</td>\n",
       "    </tr>\n",
       "  </tbody>\n",
       "</table>\n",
       "</div>"
      ],
      "text/plain": [
       "    date_start    date_end                card  \\\n",
       "9   2022.09.24  2022.09.25                롯데카드   \n",
       "10  2022.09.24  2022.09.25  SSG.COM카드 Edition2   \n",
       "11  2022.09.19  2022.09.25                신한카드   \n",
       "12  2022.07.08  2023.06.28         스마일클럽 전용 카드   \n",
       "13  2022.03.28  2023.02.16                현대카드   \n",
       "\n",
       "                             descript        platform  \\\n",
       "9         SSGPAY로 7만원 이상 결제 시 5% 청구할인         ssg.com   \n",
       "10                   최대 3만원! 5% 즉시할인          ssg.com   \n",
       "11                     대상상품 10% 청구할인   shinsegae mall   \n",
       "12  스마일클럽 가입비 100% 지원 SSG머니 최대 12% 적립         ssg.com   \n",
       "13                 장기무이자 최대 20개월 혜택!          ssg.com   \n",
       "\n",
       "                               detail_date  \\\n",
       "9   2022. 9. 24 (토) ~ 9. 25 (일) (※승인일시 기준)   \n",
       "10  2022. 9. 24 (토) ~ 9. 25 (일) (※승인일시 기준)   \n",
       "11  2022. 9. 19 (월) ~ 9. 25 (일) (※승인일시 기준)   \n",
       "12                                           \n",
       "13                                           \n",
       "\n",
       "                                 detail_card  \\\n",
       "9                  롯데카드 (※단, 법인/기프트/체크카드 제외)   \n",
       "10   SSG.COM카드 Edition2 (※선불,체크,기프트,법인카드 제외)   \n",
       "11  신한카드 (※단, 신한BC/법인/선불/기프트 카드 제외, 체크카드 포함)   \n",
       "12                                             \n",
       "13                                             \n",
       "\n",
       "                                          detail_desc  \\\n",
       "9                    SSGPAY로 롯데카드 7만원 이상 결제 시 5% 청구할인   \n",
       "10          SSG.COM카드 Edition2로 결제 시 대상상품 금액의 5% 즉시할인   \n",
       "11  구찌/버버리/프리미엄아울렛/까사미아 상품 신한카드로 10만원 이상 결제 시 10% ...   \n",
       "12                                                      \n",
       "13                                                      \n",
       "\n",
       "                          detail_goods  \\\n",
       "9    SSG.COM상품 (※서비스 상품/상품권 및 일부상품 제외)   \n",
       "10  SSG.COM상품 (※서비스 상품, 상품권 및 일부상품 제외)   \n",
       "11   구찌/버버리/프리미엄아울렛/까사미아 상품 (※일부상품 제외)   \n",
       "12                                       \n",
       "13                                       \n",
       "\n",
       "                                         detail_limit  \\\n",
       "9                                     1인 1일 최대 5만원 한도   \n",
       "10  결제페이지에서 SSG.COM카드 Edition2를 선택하시면 즉시할인이 적용 된 카...   \n",
       "11  구찌/버버리/프리미엄아울렛/까사미아 상품 행사 상품을 함께 결제 할 경우 청구할인 ...   \n",
       "12                                                      \n",
       "13                                                      \n",
       "\n",
       "                    update_dt  \n",
       "9  2022-09-25 22:01:24.675675  \n",
       "10 2022-09-25 22:01:24.675675  \n",
       "11 2022-09-25 22:01:24.675675  \n",
       "12 2022-09-25 22:01:24.675675  \n",
       "13 2022-09-25 22:01:24.675675  "
      ]
     },
     "execution_count": 90,
     "metadata": {},
     "output_type": "execute_result"
    }
   ],
   "source": [
    "df.tail()"
   ]
  },
  {
   "cell_type": "code",
   "execution_count": 91,
   "id": "f7dc10fb",
   "metadata": {},
   "outputs": [
    {
     "name": "stdout",
     "output_type": "stream",
     "text": [
      "14\n",
      "33\n",
      "47\n"
     ]
    }
   ],
   "source": [
    "print(len(df))\n",
    "print(len(origin_df))\n",
    "df = pd.concat([df, origin_df], ignore_index = True)\n",
    "print(len(df))\n"
   ]
  },
  {
   "cell_type": "code",
   "execution_count": 92,
   "id": "814f980b",
   "metadata": {},
   "outputs": [],
   "source": [
    "#df = pd.concat([df, origin_df], ignore_index = True)\n",
    "df = df.drop_duplicates(subset = [\"date_start\", \"date_end\", \"card\", \"descript\", \"platform\", \"detail_date\", \"detail_card\", \"detail_desc\", \"detail_goods\", \"detail_limit\"], keep = \"last\")"
   ]
  },
  {
   "cell_type": "code",
   "execution_count": 95,
   "id": "a7c3da87",
   "metadata": {},
   "outputs": [
    {
     "data": {
      "text/plain": [
       "31"
      ]
     },
     "execution_count": 95,
     "metadata": {},
     "output_type": "execute_result"
    }
   ],
   "source": [
    "len(df)"
   ]
  },
  {
   "cell_type": "code",
   "execution_count": 94,
   "id": "b4ded75b",
   "metadata": {},
   "outputs": [],
   "source": [
    "df.to_csv(\"test.csv\", index = False, encoding = 'utf-8-sig')"
   ]
  },
  {
   "cell_type": "code",
   "execution_count": 97,
   "id": "0bfd902a",
   "metadata": {},
   "outputs": [
    {
     "name": "stdout",
     "output_type": "stream",
     "text": [
      "<class 'pandas.core.frame.DataFrame'>\n",
      "Int64Index: 31 entries, 16 to 46\n",
      "Data columns (total 11 columns):\n",
      " #   Column        Non-Null Count  Dtype \n",
      "---  ------        --------------  ----- \n",
      " 0   date_start    31 non-null     object\n",
      " 1   date_end      31 non-null     object\n",
      " 2   card          31 non-null     object\n",
      " 3   descript      31 non-null     object\n",
      " 4   platform      31 non-null     object\n",
      " 5   detail_date   31 non-null     object\n",
      " 6   detail_card   31 non-null     object\n",
      " 7   detail_desc   31 non-null     object\n",
      " 8   detail_goods  31 non-null     object\n",
      " 9   detail_limit  31 non-null     object\n",
      " 10  update_dt     31 non-null     object\n",
      "dtypes: object(11)\n",
      "memory usage: 2.9+ KB\n"
     ]
    }
   ],
   "source": [
    "df.info()"
   ]
  },
  {
   "cell_type": "code",
   "execution_count": null,
   "id": "c5bf022f",
   "metadata": {},
   "outputs": [],
   "source": []
  }
 ],
 "metadata": {
  "kernelspec": {
   "display_name": "Python 3.8.10 ('m1')",
   "language": "python",
   "name": "python3"
  },
  "language_info": {
   "codemirror_mode": {
    "name": "ipython",
    "version": 3
   },
   "file_extension": ".py",
   "mimetype": "text/x-python",
   "name": "python",
   "nbconvert_exporter": "python",
   "pygments_lexer": "ipython3",
   "version": "3.8.10"
  },
  "vscode": {
   "interpreter": {
    "hash": "f38f48e0779543406692326c26423cbc50b2cbcda13989307a4f30025a58a207"
   }
  }
 },
 "nbformat": 4,
 "nbformat_minor": 5
}
